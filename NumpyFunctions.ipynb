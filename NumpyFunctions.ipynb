{
 "cells": [
  {
   "cell_type": "code",
   "execution_count": 1,
   "id": "256d36ed-99e8-4e0e-8e9b-483700c795a1",
   "metadata": {},
   "outputs": [
    {
     "name": "stdout",
     "output_type": "stream",
     "text": [
      "Hello World\n"
     ]
    }
   ],
   "source": [
    "print(\"Hello World\")\n"
   ]
  },
  {
   "cell_type": "code",
   "execution_count": 2,
   "id": "0a0dccb3-4501-4fd2-a744-b8a518391851",
   "metadata": {},
   "outputs": [
    {
     "name": "stdout",
     "output_type": "stream",
     "text": [
      "hello World\n"
     ]
    }
   ],
   "source": [
    "print(\"hello World\")"
   ]
  },
  {
   "cell_type": "markdown",
   "id": "a3142826-46c4-4730-a9d8-730b1064ec3a",
   "metadata": {},
   "source": [
    "# creating Numpy / N-D arrays"
   ]
  },
  {
   "cell_type": "code",
   "execution_count": 3,
   "id": "99783134-140c-4487-9639-fdced1710ae9",
   "metadata": {},
   "outputs": [
    {
     "data": {
      "text/plain": [
       "array([1, 2, 3, 4, 5])"
      ]
     },
     "execution_count": 3,
     "metadata": {},
     "output_type": "execute_result"
    }
   ],
   "source": [
    "\n",
    "import numpy as np\n",
    "arr1 = np.array([1,2,3,4,5])\n",
    "arr1"
   ]
  },
  {
   "cell_type": "code",
   "execution_count": 4,
   "id": "44bc421d-ac19-4bc2-8f42-3ce11f6cdd5c",
   "metadata": {},
   "outputs": [
    {
     "data": {
      "text/plain": [
       "numpy.ndarray"
      ]
     },
     "execution_count": 4,
     "metadata": {},
     "output_type": "execute_result"
    }
   ],
   "source": [
    "type(arr1)"
   ]
  },
  {
   "cell_type": "code",
   "execution_count": 10,
   "id": "d30d3235-bf9f-4cb7-aca9-95aef55b3d34",
   "metadata": {},
   "outputs": [
    {
     "data": {
      "text/plain": [
       "array([[1, 2, 3, 4],\n",
       "       [3, 3, 4, 5]])"
      ]
     },
     "execution_count": 10,
     "metadata": {},
     "output_type": "execute_result"
    }
   ],
   "source": [
    "arr2 = np.array([[1,2,3,4], [3,3,4,5]])\n",
    "arr2"
   ]
  },
  {
   "cell_type": "code",
   "execution_count": 9,
   "id": "1c186722-7d6a-4e31-8c95-480a083ba639",
   "metadata": {},
   "outputs": [
    {
     "data": {
      "text/plain": [
       "numpy.ndarray"
      ]
     },
     "execution_count": 9,
     "metadata": {},
     "output_type": "execute_result"
    }
   ],
   "source": [
    "type(arr2)"
   ]
  },
  {
   "cell_type": "code",
   "execution_count": 11,
   "id": "68dd8b71-0ce9-4e05-b92c-5c0cd1587df2",
   "metadata": {},
   "outputs": [
    {
     "data": {
      "text/plain": [
       "array([[0., 0., 0.],\n",
       "       [0., 0., 0.]])"
      ]
     },
     "execution_count": 11,
     "metadata": {},
     "output_type": "execute_result"
    }
   ],
   "source": [
    "arr3 = np.zeros((2,3))\n",
    "arr3"
   ]
  },
  {
   "cell_type": "code",
   "execution_count": 14,
   "id": "f1836672-932c-4854-9ef1-041b2807906e",
   "metadata": {},
   "outputs": [
    {
     "data": {
      "text/plain": [
       "array([[1., 1., 1.],\n",
       "       [1., 1., 1.],\n",
       "       [1., 1., 1.]])"
      ]
     },
     "execution_count": 14,
     "metadata": {},
     "output_type": "execute_result"
    }
   ],
   "source": [
    "arr4 = np.ones((3,3))\n",
    "arr4"
   ]
  },
  {
   "cell_type": "code",
   "execution_count": 17,
   "id": "0a108539-b0d2-4ca3-ad8f-7dec9a0939b1",
   "metadata": {},
   "outputs": [
    {
     "data": {
      "text/plain": [
       "array([[1., 0., 0., 0., 0.],\n",
       "       [0., 1., 0., 0., 0.],\n",
       "       [0., 0., 1., 0., 0.],\n",
       "       [0., 0., 0., 1., 0.],\n",
       "       [0., 0., 0., 0., 1.]])"
      ]
     },
     "execution_count": 17,
     "metadata": {},
     "output_type": "execute_result"
    }
   ],
   "source": [
    "arr5 = np.identity(5)\n",
    "arr5"
   ]
  },
  {
   "cell_type": "code",
   "execution_count": 18,
   "id": "dd37d7d5-9217-4466-9007-3e5bb4174e9d",
   "metadata": {},
   "outputs": [],
   "source": [
    "arr6 = np.arange(10)"
   ]
  },
  {
   "cell_type": "code",
   "execution_count": 19,
   "id": "ddf0e1f6-5370-45c9-8c40-a5dc76c650cc",
   "metadata": {},
   "outputs": [
    {
     "data": {
      "text/plain": [
       "array([0, 1, 2, 3, 4, 5, 6, 7, 8, 9])"
      ]
     },
     "execution_count": 19,
     "metadata": {},
     "output_type": "execute_result"
    }
   ],
   "source": [
    "arr6"
   ]
  },
  {
   "cell_type": "code",
   "execution_count": 21,
   "id": "7fb5d6c6-2aeb-4ad1-a614-5434d6cc7856",
   "metadata": {},
   "outputs": [
    {
     "data": {
      "text/plain": [
       "array([ 2,  4,  6,  8, 10])"
      ]
     },
     "execution_count": 21,
     "metadata": {},
     "output_type": "execute_result"
    }
   ],
   "source": [
    "arr7 = np.arange(2,12,2)\n",
    "arr7"
   ]
  },
  {
   "cell_type": "code",
   "execution_count": 23,
   "id": "581764d8-4cdf-4bf5-a73a-c531f01f8852",
   "metadata": {},
   "outputs": [
    {
     "data": {
      "text/plain": [
       "array([10.        , 11.11111111, 12.22222222, 13.33333333, 14.44444444,\n",
       "       15.55555556, 16.66666667, 17.77777778, 18.88888889, 20.        ])"
      ]
     },
     "execution_count": 23,
     "metadata": {},
     "output_type": "execute_result"
    }
   ],
   "source": [
    "arr8 = np.linspace(10,20,10)\n",
    "arr8"
   ]
  },
  {
   "cell_type": "code",
   "execution_count": 24,
   "id": "5fc717c9-1d26-4212-852f-30e2e37fe46f",
   "metadata": {},
   "outputs": [],
   "source": [
    "arr9= arr8.copy()"
   ]
  },
  {
   "cell_type": "code",
   "execution_count": 25,
   "id": "7a860c08-4ed0-4e58-8a61-5f4b10954af4",
   "metadata": {},
   "outputs": [
    {
     "data": {
      "text/plain": [
       "array([10.        , 11.11111111, 12.22222222, 13.33333333, 14.44444444,\n",
       "       15.55555556, 16.66666667, 17.77777778, 18.88888889, 20.        ])"
      ]
     },
     "execution_count": 25,
     "metadata": {},
     "output_type": "execute_result"
    }
   ],
   "source": [
    "arr9\n"
   ]
  },
  {
   "cell_type": "code",
   "execution_count": 27,
   "id": "a7988e5c-655d-4094-9609-7944da928599",
   "metadata": {},
   "outputs": [
    {
     "data": {
      "text/plain": [
       "(5,)"
      ]
     },
     "execution_count": 27,
     "metadata": {},
     "output_type": "execute_result"
    }
   ],
   "source": [
    "arr1.shape"
   ]
  },
  {
   "cell_type": "code",
   "execution_count": 29,
   "id": "2056c36f-564d-4933-904d-ca7ec3ace003",
   "metadata": {},
   "outputs": [
    {
     "data": {
      "text/plain": [
       "2"
      ]
     },
     "execution_count": 29,
     "metadata": {},
     "output_type": "execute_result"
    }
   ],
   "source": [
    "arr4.ndim"
   ]
  },
  {
   "cell_type": "code",
   "execution_count": 30,
   "id": "afe5190d-0c34-41d7-a5d0-b078a946b4e7",
   "metadata": {},
   "outputs": [
    {
     "data": {
      "text/plain": [
       "10"
      ]
     },
     "execution_count": 30,
     "metadata": {},
     "output_type": "execute_result"
    }
   ],
   "source": [
    "arr9.size"
   ]
  },
  {
   "cell_type": "code",
   "execution_count": 31,
   "id": "bee7987b-7d2d-4da7-a62a-d831062f73ba",
   "metadata": {},
   "outputs": [
    {
     "data": {
      "text/plain": [
       "8"
      ]
     },
     "execution_count": 31,
     "metadata": {},
     "output_type": "execute_result"
    }
   ],
   "source": [
    "arr1.itemsize"
   ]
  },
  {
   "cell_type": "code",
   "execution_count": 32,
   "id": "e63a1da6-9f83-43bd-ab7e-46747373fe04",
   "metadata": {},
   "outputs": [
    {
     "data": {
      "text/plain": [
       "8"
      ]
     },
     "execution_count": 32,
     "metadata": {},
     "output_type": "execute_result"
    }
   ],
   "source": [
    "arr9.itemsize"
   ]
  },
  {
   "cell_type": "code",
   "execution_count": 33,
   "id": "76159467-7cdc-4f6a-ae2d-032e2a8c2cc2",
   "metadata": {},
   "outputs": [
    {
     "data": {
      "text/plain": [
       "dtype('int64')"
      ]
     },
     "execution_count": 33,
     "metadata": {},
     "output_type": "execute_result"
    }
   ],
   "source": [
    "arr1.dtype"
   ]
  },
  {
   "cell_type": "code",
   "execution_count": 34,
   "id": "db4f476a-1f0a-4ad2-b356-f1c08558797c",
   "metadata": {},
   "outputs": [
    {
     "data": {
      "text/plain": [
       "dtype('float64')"
      ]
     },
     "execution_count": 34,
     "metadata": {},
     "output_type": "execute_result"
    }
   ],
   "source": [
    "arr9.dtype"
   ]
  },
  {
   "cell_type": "code",
   "execution_count": 35,
   "id": "8d454559-7c84-4215-aee4-27c825e4d90c",
   "metadata": {},
   "outputs": [
    {
     "data": {
      "text/plain": [
       "array([1., 2., 3., 4., 5.])"
      ]
     },
     "execution_count": 35,
     "metadata": {},
     "output_type": "execute_result"
    }
   ],
   "source": [
    "arr1.astype(float)"
   ]
  },
  {
   "cell_type": "code",
   "execution_count": 1,
   "id": "0e31cabb-f399-4726-92fa-2e2a03876acd",
   "metadata": {},
   "outputs": [],
   "source": [
    "import numpy as np\n"
   ]
  },
  {
   "cell_type": "code",
   "execution_count": 2,
   "id": "d8244168-2c16-4161-a55c-f6081b896912",
   "metadata": {},
   "outputs": [
    {
     "data": {
      "text/plain": [
       "array([[91, 17, 42, 94, 72],\n",
       "       [ 8, 62,  6, 19, 50],\n",
       "       [63, 87, 25, 60, 61],\n",
       "       [83, 49, 22,  7, 76]], dtype=int32)"
      ]
     },
     "execution_count": 2,
     "metadata": {},
     "output_type": "execute_result"
    }
   ],
   "source": [
    "arr = np.random.randint(low = 1 ,high = 100 , size = 20).reshape(4,5)\n",
    "arr"
   ]
  },
  {
   "cell_type": "code",
   "execution_count": 3,
   "id": "573e3e93-8f39-4591-bba4-94a7ec477420",
   "metadata": {},
   "outputs": [
    {
     "data": {
      "text/plain": [
       "array([91, 17, 42, 94, 72], dtype=int32)"
      ]
     },
     "execution_count": 3,
     "metadata": {},
     "output_type": "execute_result"
    }
   ],
   "source": [
    "arr[0]"
   ]
  },
  {
   "cell_type": "code",
   "execution_count": 4,
   "id": "78bd728e-68cd-4d3d-a351-67613dc940fd",
   "metadata": {},
   "outputs": [
    {
     "data": {
      "text/plain": [
       "np.int32(17)"
      ]
     },
     "execution_count": 4,
     "metadata": {},
     "output_type": "execute_result"
    }
   ],
   "source": [
    "arr[0][1]"
   ]
  },
  {
   "cell_type": "code",
   "execution_count": 5,
   "id": "09e370d2-061b-4da0-86e3-75922a905cdd",
   "metadata": {},
   "outputs": [
    {
     "data": {
      "text/plain": [
       "array([[ True, False, False,  True,  True],\n",
       "       [False,  True, False, False, False],\n",
       "       [ True,  True, False,  True,  True],\n",
       "       [ True, False, False, False,  True]])"
      ]
     },
     "execution_count": 5,
     "metadata": {},
     "output_type": "execute_result"
    }
   ],
   "source": [
    "arr > 50"
   ]
  },
  {
   "cell_type": "markdown",
   "id": "966b04cb-e9ab-4cc1-8200-baf1453d934e",
   "metadata": {},
   "source": [
    "# Indexing using boolean array"
   ]
  },
  {
   "cell_type": "code",
   "execution_count": 32,
   "id": "5fa4c984-0aa7-41d7-a354-8882f711be08",
   "metadata": {},
   "outputs": [
    {
     "data": {
      "text/plain": [
       "array([94, 72, 62, 60, 76], dtype=int32)"
      ]
     },
     "execution_count": 32,
     "metadata": {},
     "output_type": "execute_result"
    }
   ],
   "source": [
    "arr[arr>50]"
   ]
  },
  {
   "cell_type": "code",
   "execution_count": 8,
   "id": "17ad1a33-e663-4a3d-bffd-5b04d85c9d21",
   "metadata": {},
   "outputs": [
    {
     "data": {
      "text/plain": [
       "array([91, 63, 87, 61, 83], dtype=int32)"
      ]
     },
     "execution_count": 8,
     "metadata": {},
     "output_type": "execute_result"
    }
   ],
   "source": [
    "arr[(arr>50) & (arr%2 != 0)]"
   ]
  },
  {
   "cell_type": "code",
   "execution_count": 9,
   "id": "1e159151-60a0-488f-81d6-5f525cacd3c7",
   "metadata": {},
   "outputs": [],
   "source": [
    "arr[(arr>50) & (arr%2 != 0)] = 0"
   ]
  },
  {
   "cell_type": "code",
   "execution_count": 10,
   "id": "7a494ecf-ad61-4174-a95c-d342006bbb0c",
   "metadata": {},
   "outputs": [
    {
     "data": {
      "text/plain": [
       "array([], dtype=int32)"
      ]
     },
     "execution_count": 10,
     "metadata": {},
     "output_type": "execute_result"
    }
   ],
   "source": [
    "arr[(arr>50) & (arr%2 != 0)]"
   ]
  },
  {
   "cell_type": "code",
   "execution_count": 11,
   "id": "61bdd994-a037-45d4-a130-d44d8fe06201",
   "metadata": {},
   "outputs": [],
   "source": [
    "x = np.linspace(-40 , 40 ,100)"
   ]
  },
  {
   "cell_type": "code",
   "execution_count": 12,
   "id": "30ec53c7-d9d1-4df1-a748-19dbf72ba88d",
   "metadata": {},
   "outputs": [
    {
     "data": {
      "text/plain": [
       "array([-40.        , -39.19191919, -38.38383838, -37.57575758,\n",
       "       -36.76767677, -35.95959596, -35.15151515, -34.34343434,\n",
       "       -33.53535354, -32.72727273, -31.91919192, -31.11111111,\n",
       "       -30.3030303 , -29.49494949, -28.68686869, -27.87878788,\n",
       "       -27.07070707, -26.26262626, -25.45454545, -24.64646465,\n",
       "       -23.83838384, -23.03030303, -22.22222222, -21.41414141,\n",
       "       -20.60606061, -19.7979798 , -18.98989899, -18.18181818,\n",
       "       -17.37373737, -16.56565657, -15.75757576, -14.94949495,\n",
       "       -14.14141414, -13.33333333, -12.52525253, -11.71717172,\n",
       "       -10.90909091, -10.1010101 ,  -9.29292929,  -8.48484848,\n",
       "        -7.67676768,  -6.86868687,  -6.06060606,  -5.25252525,\n",
       "        -4.44444444,  -3.63636364,  -2.82828283,  -2.02020202,\n",
       "        -1.21212121,  -0.4040404 ,   0.4040404 ,   1.21212121,\n",
       "         2.02020202,   2.82828283,   3.63636364,   4.44444444,\n",
       "         5.25252525,   6.06060606,   6.86868687,   7.67676768,\n",
       "         8.48484848,   9.29292929,  10.1010101 ,  10.90909091,\n",
       "        11.71717172,  12.52525253,  13.33333333,  14.14141414,\n",
       "        14.94949495,  15.75757576,  16.56565657,  17.37373737,\n",
       "        18.18181818,  18.98989899,  19.7979798 ,  20.60606061,\n",
       "        21.41414141,  22.22222222,  23.03030303,  23.83838384,\n",
       "        24.64646465,  25.45454545,  26.26262626,  27.07070707,\n",
       "        27.87878788,  28.68686869,  29.49494949,  30.3030303 ,\n",
       "        31.11111111,  31.91919192,  32.72727273,  33.53535354,\n",
       "        34.34343434,  35.15151515,  35.95959596,  36.76767677,\n",
       "        37.57575758,  38.38383838,  39.19191919,  40.        ])"
      ]
     },
     "execution_count": 12,
     "metadata": {},
     "output_type": "execute_result"
    }
   ],
   "source": [
    "x"
   ]
  },
  {
   "cell_type": "code",
   "execution_count": 13,
   "id": "3b89a621-2069-464d-b6e0-92d6e4af1b86",
   "metadata": {},
   "outputs": [
    {
     "data": {
      "text/plain": [
       "100"
      ]
     },
     "execution_count": 13,
     "metadata": {},
     "output_type": "execute_result"
    }
   ],
   "source": [
    "x.size"
   ]
  },
  {
   "cell_type": "code",
   "execution_count": 14,
   "id": "53be2417-556c-4ead-9605-efe86e22050f",
   "metadata": {},
   "outputs": [
    {
     "data": {
      "text/plain": [
       "(100,)"
      ]
     },
     "execution_count": 14,
     "metadata": {},
     "output_type": "execute_result"
    }
   ],
   "source": [
    "x.shape"
   ]
  },
  {
   "cell_type": "code",
   "execution_count": 15,
   "id": "f2eedb59-42f1-48f7-b3e0-36c3acab37f6",
   "metadata": {},
   "outputs": [],
   "source": [
    "y = np.sin(x)"
   ]
  },
  {
   "cell_type": "code",
   "execution_count": 16,
   "id": "c1f696f0-188f-4d20-86b3-401a26819d75",
   "metadata": {},
   "outputs": [
    {
     "data": {
      "text/plain": [
       "100"
      ]
     },
     "execution_count": 16,
     "metadata": {},
     "output_type": "execute_result"
    }
   ],
   "source": [
    "y.size"
   ]
  },
  {
   "cell_type": "code",
   "execution_count": 20,
   "id": "3848c126-54c7-4d17-aba1-6fe378b9cd62",
   "metadata": {},
   "outputs": [],
   "source": [
    "import matplotlib.pyplot as plt\n",
    "%matplotlib inline"
   ]
  },
  {
   "cell_type": "code",
   "execution_count": 23,
   "id": "0f369ef4-0cbb-4c3a-a416-66821ba43768",
   "metadata": {},
   "outputs": [
    {
     "data": {
      "text/plain": [
       "[<matplotlib.lines.Line2D at 0x298e4902c10>]"
      ]
     },
     "execution_count": 23,
     "metadata": {},
     "output_type": "execute_result"
    }
   ],
   "source": [
    "plt.plot(x,y)"
   ]
  },
  {
   "cell_type": "code",
   "execution_count": 24,
   "id": "fbf3e5f8-abf9-4015-904f-c52cbc76c2d4",
   "metadata": {},
   "outputs": [
    {
     "data": {
      "image/png": "[encoded data removed]",
      "text/plain": [
       "<Figure size 640x480 with 1 Axes>"
      ]
     },
     "metadata": {},
     "output_type": "display_data"
    }
   ],
   "source": [
    "plt.show()"
   ]
  },
  {
   "cell_type": "code",
   "execution_count": 25,
   "id": "2f0766d3-5d55-4a0d-942b-dfee5a937281",
   "metadata": {},
   "outputs": [],
   "source": [
    "y = x*x +2*x +6"
   ]
  },
  {
   "cell_type": "code",
   "execution_count": 26,
   "id": "b988aa0f-c1a4-4bc2-b42e-081491dfd303",
   "metadata": {},
   "outputs": [
    {
     "data": {
      "text/plain": [
       "[<matplotlib.lines.Line2D at 0x298e49bcf50>]"
      ]
     },
     "execution_count": 26,
     "metadata": {},
     "output_type": "execute_result"
    }
   ],
   "source": [
    "plt.plot(x,y)"
   ]
  },
  {
   "cell_type": "code",
   "execution_count": 27,
   "id": "4b09d03b-90f6-4deb-a6d7-209adc990f1c",
   "metadata": {},
   "outputs": [
    {
     "data": {
      "image/png": "[encoded data removed]",
      "text/plain": [
       "<Figure size 640x480 with 1 Axes>"
      ]
     },
     "metadata": {},
     "output_type": "display_data"
    }
   ],
   "source": [
    "plt.show()"
   ]
  },
  {
   "cell_type": "markdown",
   "id": "8a27cdf1-a45e-411e-927a-86fb144e1fa8",
   "metadata": {},
   "source": [
    " # Brodcasting : \n"
   ]
  },
  {
   "cell_type": "markdown",
   "id": "1ae69342-2e12-4218-9d7b-d20a0393a681",
   "metadata": {},
   "source": [
    " <!-- No broadcasting needed -->"
   ]
  },
  {
   "cell_type": "markdown",
   "id": "09186144-8f02-438f-8c7c-2fcc682d9a73",
   "metadata": {},
   "source": [
    "## No need of broadcasting if both have same shape"
   ]
  },
  {
   "cell_type": "code",
   "execution_count": 35,
   "id": "1acdf00f-eabc-4fc3-acff-f1f4da460024",
   "metadata": {},
   "outputs": [
    {
     "data": {
      "text/plain": [
       "array([[ 8, 10, 12, 14],\n",
       "       [16, 18, 20, 22]])"
      ]
     },
     "execution_count": 35,
     "metadata": {},
     "output_type": "execute_result"
    }
   ],
   "source": [
    "a1 = np.arange(8).reshape(2,4)\n",
    "a2 = np.arange(8,16).reshape(2,4)\n",
    "\n",
    "a1+a2"
   ]
  },
  {
   "cell_type": "markdown",
   "id": "b1d27210-051b-4b48-b596-9e90f7007c44",
   "metadata": {},
   "source": [
    "## Broadcasting needed if shapes are different\n"
   ]
  },
  {
   "cell_type": "code",
   "execution_count": 37,
   "id": "092c5b8f-93a3-4551-be1d-49097bb2cd0a",
   "metadata": {},
   "outputs": [
    {
     "ename": "ValueError",
     "evalue": "operands could not be broadcast together with shapes (2,4) (4,2) ",
     "output_type": "error",
     "traceback": [
      "\u001b[1;31m---------------------------------------------------------------------------\u001b[0m",
      "\u001b[1;31mValueError\u001b[0m                                Traceback (most recent call last)",
      "Cell \u001b[1;32mIn[37], line 3\u001b[0m\n\u001b[0;32m      1\u001b[0m a3 \u001b[38;5;241m=\u001b[39m np\u001b[38;5;241m.\u001b[39marange(\u001b[38;5;241m8\u001b[39m)\u001b[38;5;241m.\u001b[39mreshape(\u001b[38;5;241m2\u001b[39m,\u001b[38;5;241m4\u001b[39m)\n\u001b[0;32m      2\u001b[0m a4 \u001b[38;5;241m=\u001b[39m np\u001b[38;5;241m.\u001b[39marange(\u001b[38;5;241m8\u001b[39m,\u001b[38;5;241m16\u001b[39m)\u001b[38;5;241m.\u001b[39mreshape(\u001b[38;5;241m4\u001b[39m,\u001b[38;5;241m2\u001b[39m)\n\u001b[1;32m----> 3\u001b[0m a3\u001b[38;5;241m+\u001b[39ma4\n",
      "\u001b[1;31mValueError\u001b[0m: operands could not be broadcast together with shapes (2,4) (4,2) "
     ]
    }
   ],
   "source": [
    "a3 = np.arange(8).reshape(2,4)\n",
    "a4 = np.arange(8,16).reshape(4,2)\n",
    "a3+a4"
   ]
  },
  {
   "cell_type": "code",
   "execution_count": 38,
   "id": "913f7748-5393-4946-8af3-1cce908bb903",
   "metadata": {},
   "outputs": [
    {
     "ename": "ValueError",
     "evalue": "operands could not be broadcast together with shapes (1,3) (3,4) ",
     "output_type": "error",
     "traceback": [
      "\u001b[1;31m---------------------------------------------------------------------------\u001b[0m",
      "\u001b[1;31mValueError\u001b[0m                                Traceback (most recent call last)",
      "Cell \u001b[1;32mIn[38], line 4\u001b[0m\n\u001b[0;32m      1\u001b[0m a5 \u001b[38;5;241m=\u001b[39m np\u001b[38;5;241m.\u001b[39marange(\u001b[38;5;241m3\u001b[39m)\u001b[38;5;241m.\u001b[39mreshape(\u001b[38;5;241m1\u001b[39m,\u001b[38;5;241m3\u001b[39m)\n\u001b[0;32m      2\u001b[0m a6 \u001b[38;5;241m=\u001b[39m np\u001b[38;5;241m.\u001b[39marange(\u001b[38;5;241m12\u001b[39m)\u001b[38;5;241m.\u001b[39mreshape(\u001b[38;5;241m3\u001b[39m , \u001b[38;5;241m4\u001b[39m)\n\u001b[1;32m----> 4\u001b[0m a5\u001b[38;5;241m+\u001b[39ma6\n",
      "\u001b[1;31mValueError\u001b[0m: operands could not be broadcast together with shapes (1,3) (3,4) "
     ]
    }
   ],
   "source": [
    "a5 = np.arange(3).reshape(1,3)\n",
    "a6 = np.arange(12).reshape(3 , 4)\n",
    "\n",
    "a5+a6"
   ]
  },
  {
   "cell_type": "code",
   "execution_count": 39,
   "id": "77d71011-a558-4637-8b18-1bbac64c009b",
   "metadata": {},
   "outputs": [
    {
     "data": {
      "text/plain": [
       "array([[ 0,  2,  4],\n",
       "       [ 3,  5,  7],\n",
       "       [ 6,  8, 10],\n",
       "       [ 9, 11, 13]])"
      ]
     },
     "execution_count": 39,
     "metadata": {},
     "output_type": "execute_result"
    }
   ],
   "source": [
    "a7 = np.arange(3).reshape(1,3)\n",
    "a8 = np.arange(12).reshape(4, 3)\n",
    "a7+a8"
   ]
  },
  {
   "cell_type": "code",
   "execution_count": 41,
   "id": "a154dc5c-bc32-48d2-9e6f-55299972833e",
   "metadata": {},
   "outputs": [
    {
     "data": {
      "text/plain": [
       "0.8184584471160019"
      ]
     },
     "execution_count": 41,
     "metadata": {},
     "output_type": "execute_result"
    }
   ],
   "source": [
    "np.random.random()"
   ]
  },
  {
   "cell_type": "raw",
   "id": "42bda3e0-7ae7-4276-871f-ed9fd8f3385f",
   "metadata": {},
   "source": [
    "np.random.seed(1)"
   ]
  },
  {
   "cell_type": "code",
   "execution_count": 43,
   "id": "b4bb1357-6726-47de-b9f8-0e889997454e",
   "metadata": {},
   "outputs": [
    {
     "data": {
      "text/plain": [
       "0.7585009816879859"
      ]
     },
     "execution_count": 43,
     "metadata": {},
     "output_type": "execute_result"
    }
   ],
   "source": [
    "np.random.random()"
   ]
  },
  {
   "cell_type": "code",
   "execution_count": 47,
   "id": "e87edac6-b0a6-4af3-8098-f3322c321b04",
   "metadata": {},
   "outputs": [
    {
     "data": {
      "text/plain": [
       "5.118891680397294"
      ]
     },
     "execution_count": 47,
     "metadata": {},
     "output_type": "execute_result"
    }
   ],
   "source": [
    "np.random.uniform(3,10)"
   ]
  },
  {
   "cell_type": "code",
   "execution_count": null,
   "id": "557157aa-ebc1-4224-892c-1b098df47049",
   "metadata": {},
   "outputs": [],
   "source": []
  },
  {
   "cell_type": "code",
   "execution_count": null,
   "id": "dab7fd9b-23e5-4f66-b796-721526ea5f66",
   "metadata": {},
   "outputs": [],
   "source": []
  }
 ],
 "metadata": {
  "kernelspec": {
   "display_name": "Python 3 (ipykernel)",
   "language": "python",
   "name": "python3"
  },
  "language_info": {
   "codemirror_mode": {
    "name": "ipython",
    "version": 3
   },
   "file_extension": ".py",
   "mimetype": "text/x-python",
   "name": "python",
   "nbconvert_exporter": "python",
   "pygments_lexer": "ipython3",
   "version": "3.13.5"
  }
 },
 "nbformat": 4,
 "nbformat_minor": 5
}
