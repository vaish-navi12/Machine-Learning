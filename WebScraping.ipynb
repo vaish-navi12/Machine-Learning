{
 "cells": [
  {
   "cell_type": "code",
   "execution_count": 1,
   "id": "ef1d8128-b720-43cd-b436-ac9ec7fcbd13",
   "metadata": {},
   "outputs": [],
   "source": [
    "import pandas as pd\n",
    "import requests\n",
    "from selenium import webdriver\n",
    "from bs4 import BeautifulSoup\n",
    "import time\n"
   ]
  },
  {
   "cell_type": "code",
   "execution_count": null,
   "id": "65c0948f-19f2-46f1-a6b5-bd57575ccda6",
   "metadata": {},
   "outputs": [],
   "source": [
    "pip install selenium"
   ]
  },
  {
   "cell_type": "code",
   "execution_count": 2,
   "id": "8295a274-cffd-43a3-a72c-0625c7e7f399",
   "metadata": {},
   "outputs": [],
   "source": [
    "headers={'User-Agent':'Mozilla/5.0 (Windows NT 6.3; Win 64 ; x64) Apple WeKit /537.36(KHTML , like Gecko) Chrome/80.0.3987.162 Safari/537.36'} \n",
    "webpage = requests.get('https://www.ambitionbox.com/list-of-companies?page=1' , headers = headers).text"
   ]
  },
  {
   "cell_type": "code",
   "execution_count": 3,
   "id": "dff91f12-a1a4-47ca-b944-74d158a9e448",
   "metadata": {},
   "outputs": [],
   "source": [
    "soup = BeautifulSoup(webpage , 'lxml')"
   ]
  },
  {
   "cell_type": "code",
   "execution_count": 4,
   "id": "e8fc4abe-5660-4af2-930d-6a23ae0d9dbc",
   "metadata": {},
   "outputs": [],
   "source": [
    "# all_h2_texts = [h2.text for h2 in soup.find_all('h2')]\n",
    "# soup.get_text()"
   ]
  },
  {
   "cell_type": "code",
   "execution_count": 5,
   "id": "cc53631a-56d0-4688-ae28-25860807d02e",
   "metadata": {},
   "outputs": [],
   "source": [
    "# for i in soup.find_all('h2'):\n",
    "#     print(i.text.strip())"
   ]
  },
  {
   "cell_type": "code",
   "execution_count": 6,
   "id": "d3780893-5c19-468c-bc1b-6e1fa66089e4",
   "metadata": {},
   "outputs": [],
   "source": [
    "# for i in soup.find_all('div', class_= 'rating_star_container'):\n",
    "#     print(i.text)"
   ]
  },
  {
   "cell_type": "code",
   "execution_count": 7,
   "id": "aec89ca9-a81f-4b80-8c7a-44f6fc442371",
   "metadata": {},
   "outputs": [],
   "source": [
    "# len(soup.find_all('div', class_= 'rating_star_container'))"
   ]
  },
  {
   "cell_type": "code",
   "execution_count": 8,
   "id": "3db1f1c0-86c3-4e62-a8e5-bd176594c6eb",
   "metadata": {},
   "outputs": [],
   "source": [
    "company = soup.find_all('div' , class_='companyCardWrapper__primaryInformation')"
   ]
  },
  {
   "cell_type": "code",
   "execution_count": 9,
   "id": "b2d24873-dfe7-401f-9686-84444c857d04",
   "metadata": {},
   "outputs": [
    {
     "data": {
      "text/plain": [
       "20"
      ]
     },
     "execution_count": 9,
     "metadata": {},
     "output_type": "execute_result"
    }
   ],
   "source": [
    "len(company)"
   ]
  },
  {
   "cell_type": "code",
   "execution_count": 10,
   "id": "47159e7b-7c5a-465c-8526-3a3ccca0cebe",
   "metadata": {},
   "outputs": [],
   "source": [
    "driver = webdriver.Chrome()"
   ]
  },
  {
   "cell_type": "code",
   "execution_count": 11,
   "id": "8f24dd02-2773-4938-9382-17ae6ed27fd3",
   "metadata": {},
   "outputs": [],
   "source": [
    "url = \"https://www.ambitionbox.com/list-of-companies?campaign=desktop_nav\"\n",
    "driver.get(url)"
   ]
  },
  {
   "cell_type": "code",
   "execution_count": 12,
   "id": "a051b238-4cd7-45ae-8824-896d1c86a2f4",
   "metadata": {},
   "outputs": [],
   "source": [
    "time.sleep(5)"
   ]
  },
  {
   "cell_type": "code",
   "execution_count": 13,
   "id": "cd2e007d-146b-4297-a164-0cde0a2f1950",
   "metadata": {},
   "outputs": [],
   "source": [
    "soup = BeautifulSoup(driver.page_source , 'html.parser')\n",
    "companies = soup.find_all('div' , class_='companyCardWrapper')"
   ]
  },
  {
   "cell_type": "code",
   "execution_count": 14,
   "id": "8532fcab-eb71-42fc-9466-796cda84a09b",
   "metadata": {},
   "outputs": [],
   "source": [
    "from selenium.webdriver.common.by import By\n",
    "from selenium.webdriver.support.ui import WebDriverWait\n",
    "from selenium.webdriver.support import expected_conditions as EC\n",
    "import time"
   ]
  },
  {
   "cell_type": "code",
   "execution_count": 15,
   "id": "558a0bc0-430c-4f1f-97af-9328c3cabe81",
   "metadata": {},
   "outputs": [
    {
     "name": "stdout",
     "output_type": "stream",
     "text": [
      "1L\n",
      "66.8k\n",
      "59.9k\n",
      "56.9k\n",
      "48.7k\n",
      "46.5k\n",
      "44.8k\n",
      "42.6k\n",
      "41.8k\n",
      "40k\n",
      "38.1k\n",
      "34.2k\n",
      "30k\n",
      "29.8k\n",
      "28.8k\n",
      "28.8k\n",
      "26.5k\n",
      "25.3k\n",
      "24.3k\n",
      "23.8k\n"
     ]
    }
   ],
   "source": [
    "for _ in range(3):\n",
    "    driver.execute_script(\"window.scrollTo(0, document.body.scrollHeight);\")\n",
    "    time.sleep(2)\n",
    "\n",
    "WebDriverWait(driver, 20).until(\n",
    "    EC.presence_of_all_elements_located((By.CSS_SELECTOR, \"a[href*='reviews']\"))\n",
    ")\n",
    "\n",
    "soup = BeautifulSoup(driver.page_source, \"html.parser\")\n",
    "company = soup.find_all(\"div\", class_=\"companyCardWrapper\")\n",
    "\n",
    "name = []\n",
    "rating = []\n",
    "reviews = []\n",
    "\n",
    "for i in company:\n",
    "    name.append(i.find('h2').text.strip())\n",
    "    rating.append(i.find('div', class_='rating_text rating_text--md').text.strip())\n",
    "\n",
    "    review_section = i.find('a', href=lambda x: x and 'reviews' in x)\n",
    "    if review_section:\n",
    "        review_count = review_section.find('span', class_='companyCardWrapper__ActionCount')\n",
    "        reviews.append(review_count.text.strip() if review_count else None)\n",
    "    else:\n",
    "        reviews.append(None)\n",
    "\n",
    "\n",
    "for n, r, rev in zip(name, rating, reviews):\n",
    "    print( rev)\n",
    "d = {'name' : name , 'rating' : rating , 'reviews' : reviews}\n",
    "df = pd.DataFrame(d)    \n",
    "    \n",
    "\n",
    "driver.quit()"
   ]
  },
  {
   "cell_type": "code",
   "execution_count": 16,
   "id": "99b35a69-67ed-4bdc-82fe-391a96a8cee0",
   "metadata": {},
   "outputs": [
    {
     "data": {
      "text/html": [
       "<div>\n",
       "<style scoped>\n",
       "    .dataframe tbody tr th:only-of-type {\n",
       "        vertical-align: middle;\n",
       "    }\n",
       "\n",
       "    .dataframe tbody tr th {\n",
       "        vertical-align: top;\n",
       "    }\n",
       "\n",
       "    .dataframe thead th {\n",
       "        text-align: right;\n",
       "    }\n",
       "</style>\n",
       "<table border=\"1\" class=\"dataframe\">\n",
       "  <thead>\n",
       "    <tr style=\"text-align: right;\">\n",
       "      <th></th>\n",
       "      <th>name</th>\n",
       "      <th>rating</th>\n",
       "      <th>reviews</th>\n",
       "    </tr>\n",
       "  </thead>\n",
       "  <tbody>\n",
       "    <tr>\n",
       "      <th>0</th>\n",
       "      <td>TCS</td>\n",
       "      <td>3.5</td>\n",
       "      <td>1L</td>\n",
       "    </tr>\n",
       "    <tr>\n",
       "      <th>1</th>\n",
       "      <td>Accenture</td>\n",
       "      <td>3.7</td>\n",
       "      <td>66.8k</td>\n",
       "    </tr>\n",
       "    <tr>\n",
       "      <th>2</th>\n",
       "      <td>Wipro</td>\n",
       "      <td>3.7</td>\n",
       "      <td>59.9k</td>\n",
       "    </tr>\n",
       "    <tr>\n",
       "      <th>3</th>\n",
       "      <td>Cognizant</td>\n",
       "      <td>3.7</td>\n",
       "      <td>56.9k</td>\n",
       "    </tr>\n",
       "    <tr>\n",
       "      <th>4</th>\n",
       "      <td>Capgemini</td>\n",
       "      <td>3.7</td>\n",
       "      <td>48.7k</td>\n",
       "    </tr>\n",
       "    <tr>\n",
       "      <th>5</th>\n",
       "      <td>HDFC Bank</td>\n",
       "      <td>3.8</td>\n",
       "      <td>46.5k</td>\n",
       "    </tr>\n",
       "    <tr>\n",
       "      <th>6</th>\n",
       "      <td>Infosys</td>\n",
       "      <td>3.5</td>\n",
       "      <td>44.8k</td>\n",
       "    </tr>\n",
       "    <tr>\n",
       "      <th>7</th>\n",
       "      <td>ICICI Bank</td>\n",
       "      <td>4.0</td>\n",
       "      <td>42.6k</td>\n",
       "    </tr>\n",
       "    <tr>\n",
       "      <th>8</th>\n",
       "      <td>HCLTech</td>\n",
       "      <td>3.4</td>\n",
       "      <td>41.8k</td>\n",
       "    </tr>\n",
       "    <tr>\n",
       "      <th>9</th>\n",
       "      <td>Tech Mahindra</td>\n",
       "      <td>3.4</td>\n",
       "      <td>40k</td>\n",
       "    </tr>\n",
       "    <tr>\n",
       "      <th>10</th>\n",
       "      <td>Genpact</td>\n",
       "      <td>3.7</td>\n",
       "      <td>38.1k</td>\n",
       "    </tr>\n",
       "    <tr>\n",
       "      <th>11</th>\n",
       "      <td>Teleperformance</td>\n",
       "      <td>3.9</td>\n",
       "      <td>34.2k</td>\n",
       "    </tr>\n",
       "    <tr>\n",
       "      <th>12</th>\n",
       "      <td>Axis Bank</td>\n",
       "      <td>3.7</td>\n",
       "      <td>30k</td>\n",
       "    </tr>\n",
       "    <tr>\n",
       "      <th>13</th>\n",
       "      <td>Concentrix Corporation</td>\n",
       "      <td>3.6</td>\n",
       "      <td>29.8k</td>\n",
       "    </tr>\n",
       "    <tr>\n",
       "      <th>14</th>\n",
       "      <td>Amazon</td>\n",
       "      <td>4.0</td>\n",
       "      <td>28.8k</td>\n",
       "    </tr>\n",
       "    <tr>\n",
       "      <th>15</th>\n",
       "      <td>Jio</td>\n",
       "      <td>4.3</td>\n",
       "      <td>28.8k</td>\n",
       "    </tr>\n",
       "    <tr>\n",
       "      <th>16</th>\n",
       "      <td>iEnergizer</td>\n",
       "      <td>4.7</td>\n",
       "      <td>26.5k</td>\n",
       "    </tr>\n",
       "    <tr>\n",
       "      <th>17</th>\n",
       "      <td>Reliance Retail</td>\n",
       "      <td>3.9</td>\n",
       "      <td>25.3k</td>\n",
       "    </tr>\n",
       "    <tr>\n",
       "      <th>18</th>\n",
       "      <td>IBM</td>\n",
       "      <td>3.9</td>\n",
       "      <td>24.3k</td>\n",
       "    </tr>\n",
       "    <tr>\n",
       "      <th>19</th>\n",
       "      <td>LTIMindtree</td>\n",
       "      <td>3.7</td>\n",
       "      <td>23.8k</td>\n",
       "    </tr>\n",
       "  </tbody>\n",
       "</table>\n",
       "</div>"
      ],
      "text/plain": [
       "                      name rating reviews\n",
       "0                      TCS    3.5      1L\n",
       "1                Accenture    3.7   66.8k\n",
       "2                    Wipro    3.7   59.9k\n",
       "3                Cognizant    3.7   56.9k\n",
       "4                Capgemini    3.7   48.7k\n",
       "5                HDFC Bank    3.8   46.5k\n",
       "6                  Infosys    3.5   44.8k\n",
       "7               ICICI Bank    4.0   42.6k\n",
       "8                  HCLTech    3.4   41.8k\n",
       "9            Tech Mahindra    3.4     40k\n",
       "10                 Genpact    3.7   38.1k\n",
       "11         Teleperformance    3.9   34.2k\n",
       "12               Axis Bank    3.7     30k\n",
       "13  Concentrix Corporation    3.6   29.8k\n",
       "14                  Amazon    4.0   28.8k\n",
       "15                     Jio    4.3   28.8k\n",
       "16              iEnergizer    4.7   26.5k\n",
       "17         Reliance Retail    3.9   25.3k\n",
       "18                     IBM    3.9   24.3k\n",
       "19             LTIMindtree    3.7   23.8k"
      ]
     },
     "execution_count": 16,
     "metadata": {},
     "output_type": "execute_result"
    }
   ],
   "source": [
    "\n",
    "df\n"
   ]
  },
  {
   "cell_type": "code",
   "execution_count": null,
   "id": "bcb922a0-a3f4-4343-810d-37b05c2174a2",
   "metadata": {},
   "outputs": [],
   "source": [
    "final = pd.DataFrame()\n",
    "\n",
    "for j in range(1,3):\n",
    "    url = 'https://www.ambitionbox.com/list-of-companies?page={}'.format(j)\n",
    "    \n",
    "    headers={'User-Agent':'Mozilla/5.0 (Windows NT 6.3; Win 64 ; x64) Apple WeKit /537.36(KHTML , like Gecko) Chrome/80.0.3987.162 Safari/537.36'} \n",
    "    webpage = requests.get(url, headers = headers).text\n",
    "    \n",
    "    soup = BeautifulSoup(webpage , 'lxml')\n",
    "\n",
    "    company = soup.find_all('div' , class_='companyCardWrapper__primaryInformation')\n",
    "\n",
    "    name = []\n",
    "    rating = []\n",
    "    reviews = []\n",
    "\n",
    "    for i in company:\n",
    "        name.append(i.find('h2').text.strip())\n",
    "        rating.append(i.find('div', class_='rating_text rating_text--md').text.strip())\n",
    "\n",
    "        review_section = i.find('a', href=lambda x: x and 'reviews' in x)\n",
    "        if review_section:\n",
    "            review_count = review_section.find('span', class_='companyCardWrapper__ActionCount')\n",
    "            reviews.append(review_count.text.strip() if review_count else None)\n",
    "        else:\n",
    "            reviews.append(None)\n",
    "\n",
    "\n",
    "    # for n, r, rev in zip(name, rating, reviews):\n",
    "    #     print( rev)\n",
    "    d = {'name' : name , 'rating' : rating , 'reviews' : reviews}\n",
    "    df = pd.DataFrame(d)  \n",
    "    final = pd.concat([final, df], ignore_index=True)\n",
    "\n",
    "    \n",
    "\n",
    "    driver.quit()"
   ]
  },
  {
   "cell_type": "code",
   "execution_count": 18,
   "id": "a5e74c09-baad-4a66-823e-e37f723b0986",
   "metadata": {},
   "outputs": [
    {
     "data": {
      "text/plain": [
       "(40, 3)"
      ]
     },
     "execution_count": 18,
     "metadata": {},
     "output_type": "execute_result"
    }
   ],
   "source": [
    "final.shape"
   ]
  },
  {
   "cell_type": "code",
   "execution_count": 2,
   "id": "450efa2b-a39f-482d-bebf-0d79723f9cba",
   "metadata": {},
   "outputs": [],
   "source": []
  },
  {
   "cell_type": "code",
   "execution_count": 3,
   "id": "1b1ebe01-0557-4cde-a80f-9f3cd0c0a021",
   "metadata": {},
   "outputs": [],
   "source": []
  },
  {
   "cell_type": "code",
   "execution_count": 4,
   "id": "dcb387d7-b068-48af-920d-e1588052d986",
   "metadata": {},
   "outputs": [],
   "source": []
  },
  {
   "cell_type": "code",
   "execution_count": 5,
   "id": "08afff57-60a2-4b52-912e-ea3c31d14b1b",
   "metadata": {},
   "outputs": [],
   "source": []
  },
  {
   "cell_type": "code",
   "execution_count": 6,
   "id": "4aa1ef1a-0f81-47e3-ae96-890b7cdf433d",
   "metadata": {},
   "outputs": [],
   "source": []
  },
  {
   "cell_type": "code",
   "execution_count": 7,
   "id": "62369f3a-7b5b-4d7e-8a2c-7e2f4279fd53",
   "metadata": {},
   "outputs": [],
   "source": []
  },
  {
   "cell_type": "code",
   "execution_count": 8,
   "id": "ad2559e3-3f24-4bd1-ab28-e9bd9c0a1617",
   "metadata": {},
   "outputs": [],
   "source": []
  },
  {
   "cell_type": "code",
   "execution_count": 9,
   "id": "3e91516c-2c57-4340-89c2-bd4adb12e100",
   "metadata": {},
   "outputs": [],
   "source": []
  },
  {
   "cell_type": "code",
   "execution_count": null,
   "id": "e9890da9-444d-477b-8b38-148d7a8e330f",
   "metadata": {},
   "outputs": [],
   "source": []
  },
  {
   "cell_type": "code",
   "execution_count": null,
   "id": "049fe1e2-a648-4f75-9c3b-392b5be2d5a6",
   "metadata": {},
   "outputs": [],
   "source": []
  },
  {
   "cell_type": "code",
   "execution_count": 27,
   "id": "8ea8519e-81de-4924-a25f-882a7b4db282",
   "metadata": {},
   "outputs": [],
   "source": []
  },
  {
   "cell_type": "code",
   "execution_count": null,
   "id": "dcbfacb8-d76a-491c-bbb1-640b0213350e",
   "metadata": {},
   "outputs": [],
   "source": []
  },
  {
   "cell_type": "code",
   "execution_count": null,
   "id": "d8e313d7-5cc1-41a1-bda5-96de37f836ae",
   "metadata": {},
   "outputs": [],
   "source": [
    "\n"
   ]
  },
  {
   "cell_type": "code",
   "execution_count": null,
   "id": "d2071b3b-379f-4056-8799-a701b12e184c",
   "metadata": {},
   "outputs": [],
   "source": []
  }
 ],
 "metadata": {
  "kernelspec": {
   "display_name": "Python 3 (ipykernel)",
   "language": "python",
   "name": "python3"
  },
  "language_info": {
   "codemirror_mode": {
    "name": "ipython",
    "version": 3
   },
   "file_extension": ".py",
   "mimetype": "text/x-python",
   "name": "python",
   "nbconvert_exporter": "python",
   "pygments_lexer": "ipython3",
   "version": "3.13.5"
  }
 },
 "nbformat": 4,
 "nbformat_minor": 5
}
